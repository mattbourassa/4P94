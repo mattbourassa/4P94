{
 "cells": [
  {
   "cell_type": "markdown",
   "metadata": {
    "collapsed": true
   },
   "source": [
    "# Understanding Sports Markets\n",
    "- Chapter 1 Miller\n",
    "- CHL team valuation model"
   ]
  },
  {
   "cell_type": "markdown",
   "metadata": {},
   "source": [
    "# Objective\n",
    "1. Examine and interpret salary distributions\n",
    "2. Examine relationship between salary and winning percentage\n",
    "3. Calculate and/or estimation team valuation\n",
    "4. Use historgram and scatter plots "
   ]
  },
  {
   "cell_type": "code",
   "execution_count": 66,
   "metadata": {},
   "outputs": [],
   "source": [
    "# modules"
   ]
  },
  {
   "cell_type": "code",
   "execution_count": 67,
   "metadata": {},
   "outputs": [],
   "source": [
    "%matplotlib inline\n",
    "import os, sys\n",
    "import pandas as pd\n",
    "import numpy as np\n",
    "import matplotlib as mpl\n",
    "import matplotlib.pyplot as plt\n",
    "\n",
    "# Set some Pandas options\n",
    "pd.set_option('display.notebook_repr_html', False)\n",
    "pd.set_option('display.max_columns', 20)\n",
    "pd.set_option('display.max_rows', 25)"
   ]
  },
  {
   "cell_type": "markdown",
   "metadata": {},
   "source": [
    "# file management\n",
    "- observe working directory\n",
    "- change working directory"
   ]
  },
  {
   "cell_type": "code",
   "execution_count": 68,
   "metadata": {},
   "outputs": [
    {
     "name": "stdout",
     "output_type": "stream",
     "text": [
      "/home/vmuser/Documents/4P94/02-sports markets\n['mlb_payroll_performance_2014.csv', 'mlb_player_salaries_2015.csv', 'nba_player_salaries_2015.csv', 'nfl_player_salaries_2015.csv', '02a-player_salaries.ipynb']\n"
     ]
    }
   ],
   "source": [
    "os.chdir('/home/vmuser/Documents/4P94/02-sports markets')\n",
    "print os.getcwd()\n",
    "print os.listdir('/home/vmuser/Documents/4P94/02-sports markets')"
   ]
  },
  {
   "cell_type": "markdown",
   "metadata": {},
   "source": [
    "Creata a list of files that are in directory"
   ]
  },
  {
   "cell_type": "code",
   "execution_count": 69,
   "metadata": {
    "collapsed": false
   },
   "outputs": [
    {
     "name": "stdout",
     "output_type": "stream",
     "text": [
      "['mlb_payroll_performance_2014.csv', 'mlb_player_salaries_2015.csv', 'nba_player_salaries_2015.csv', 'nfl_player_salaries_2015.csv', '02a-player_salaries.ipynb']\n5\n"
     ]
    }
   ],
   "source": [
    "list_files = os.listdir('/home/vmuser/Documents/4P94/02-sports markets')\n",
    "print list_files\n",
    "print len(list_files)"
   ]
  },
  {
   "cell_type": "markdown",
   "metadata": {},
   "source": [
    "# Load data"
   ]
  },
  {
   "cell_type": "code",
   "execution_count": 70,
   "metadata": {},
   "outputs": [],
   "source": [
    "dmlb = pandas.read_csv('mlb_payroll_performance_2014.csv')"
   ]
  },
  {
   "cell_type": "code",
   "execution_count": 71,
   "metadata": {},
   "outputs": [],
   "source": [
    "# Examine and clean data"
   ]
  },
  {
   "cell_type": "code",
   "execution_count": 72,
   "metadata": {},
   "outputs": [
    {
     "data": {
      "text/plain": [
       "  team    payroll league  games  wins  losses  wlpct  runs  averuns  rundiff  \\\n0  LAA  128046500     AL    162    98      64  0.605   4.8      3.9      0.9   \n1  BAL  105084121     AL    162    96      66  0.593   4.4      3.7      0.7   \n2  WSN  134366735     NL    162    96      66  0.593   4.2      3.4      0.8   \n3  LAD  241128402     NL    162    94      68  0.580   4.4      3.8      0.6   \n4  STL  114020360     NL    162    90      72  0.556   3.8      3.7      0.1   \n\n  textleft textright  \n0      LAA       NaN  \n1      BAL       NaN  \n2      WSN       NaN  \n3      LAD       NaN  \n4      STL       NaN  "
      ]
     },
     "execution_count": 72,
     "metadata": {},
     "output_type": "execute_result"
    }
   ],
   "source": [
    "dmlb.head()"
   ]
  },
  {
   "cell_type": "code",
   "execution_count": 73,
   "metadata": {},
   "outputs": [
    {
     "data": {
      "text/plain": [
       "Index([u'team', u'payroll', u'league', u'games', u'wins', u'losses', u'wlpct',\n       u'runs', u'averuns', u'rundiff', u'textleft', u'textright'],\n      dtype='object')"
      ]
     },
     "execution_count": 73,
     "metadata": {},
     "output_type": "execute_result"
    }
   ],
   "source": [
    "dmlb.columns"
   ]
  },
  {
   "cell_type": "markdown",
   "metadata": {},
   "source": [
    "# Descriptive statistics \n",
    "- all data and across leagues"
   ]
  },
  {
   "cell_type": "code",
   "execution_count": 74,
   "metadata": {
    "collapsed": true
   },
   "outputs": [
    {
     "data": {
      "text/plain": [
       "            payroll  games       wins     losses      wlpct       runs  \\\ncount  3.000000e+01   30.0  30.000000  30.000000  30.000000  30.000000   \nmean   1.127207e+08  162.0  81.000000  81.000000   0.500000   4.066667   \nstd    4.477529e+07    0.0   9.598851   9.598851   0.059286   0.355580   \nmin    4.498580e+07  162.0  64.000000  64.000000   0.395000   3.300000   \n25%    8.263719e+07  162.0  73.000000  74.000000   0.451000   3.825000   \n50%    9.890170e+07  162.0  80.500000  81.500000   0.497000   4.000000   \n75%    1.316001e+08  162.0  88.000000  89.000000   0.543000   4.350000   \nmax    2.411284e+08  162.0  98.000000  98.000000   0.605000   4.800000   \n\n         averuns       rundiff  \ncount  30.000000  3.000000e+01  \nmean    4.073333  2.590520e-17  \nstd     0.433059  4.989644e-01  \nmin     3.400000 -8.000000e-01  \n25%     3.800000 -4.000000e-01  \n50%     3.950000 -5.000000e-02  \n75%     4.400000  3.000000e-01  \nmax     5.000000  1.000000e+00  "
      ]
     },
     "execution_count": 74,
     "metadata": {},
     "output_type": "execute_result"
    }
   ],
   "source": [
    "dmlb.describe()"
   ]
  },
  {
   "cell_type": "code",
   "execution_count": 75,
   "metadata": {},
   "outputs": [
    {
     "name": "stdout",
     "output_type": "stream",
     "text": [
      "prepare data\n"
     ]
    }
   ],
   "source": [
    "print('prepare data')\n",
    "dmlb['payroll_adj'] = dmlb['payroll']/1000000"
   ]
  },
  {
   "cell_type": "code",
   "execution_count": 76,
   "metadata": {},
   "outputs": [
    {
     "data": {
      "text/plain": [
       "            payroll  games       wins     losses      wlpct       runs  \\\ncount  3.000000e+01   30.0  30.000000  30.000000  30.000000  30.000000   \nmean   1.127207e+08  162.0  81.000000  81.000000   0.500000   4.066667   \nstd    4.477529e+07    0.0   9.598851   9.598851   0.059286   0.355580   \nmin    4.498580e+07  162.0  64.000000  64.000000   0.395000   3.300000   \n25%    8.263719e+07  162.0  73.000000  74.000000   0.451000   3.825000   \n50%    9.890170e+07  162.0  80.500000  81.500000   0.497000   4.000000   \n75%    1.316001e+08  162.0  88.000000  89.000000   0.543000   4.350000   \nmax    2.411284e+08  162.0  98.000000  98.000000   0.605000   4.800000   \n\n         averuns       rundiff  payroll_adj  \ncount  30.000000  3.000000e+01    30.000000  \nmean    4.073333  2.590520e-17   112.720745  \nstd     0.433059  4.989644e-01    44.775293  \nmin     3.400000 -8.000000e-01    44.985800  \n25%     3.800000 -4.000000e-01    82.637189  \n50%     3.950000 -5.000000e-02    98.901704  \n75%     4.400000  3.000000e-01   131.600147  \nmax     5.000000  1.000000e+00   241.128402  "
      ]
     },
     "execution_count": 76,
     "metadata": {},
     "output_type": "execute_result"
    }
   ],
   "source": [
    "dmlb.describe()"
   ]
  },
  {
   "cell_type": "code",
   "execution_count": 77,
   "metadata": {},
   "outputs": [
    {
     "data": {
      "text/plain": [
       "league\nAL    111.804347\nNL    113.637143\nName: payroll_adj, dtype: float64"
      ]
     },
     "execution_count": 77,
     "metadata": {},
     "output_type": "execute_result"
    }
   ],
   "source": [
    "dmlb.groupby(['league'])['payroll_adj'].mean()"
   ]
  },
  {
   "cell_type": "code",
   "execution_count": 80,
   "metadata": {},
   "outputs": [
    {
     "data": {
      "text/plain": [
       "(array([ 2.,  7.,  7.,  4.,  4.,  2.,  2.,  0.,  1.,  1.]),\n array([  44.9858   ,   64.6000602,   84.2143204,  103.8285806,\n         123.4428408,  143.057101 ,  162.6713612,  182.2856214,\n         201.8998816,  221.5141418,  241.128402 ]),\n <a list of 10 Patch objects>)"
      ]
     },
     "execution_count": 80,
     "metadata": {},
     "output_type": "execute_result"
    },
    {
     "data": {
      "image/png": "[encoded data removed]",
      "text/plain": [
       "<matplotlib.figure.Figure at 0x7fc6318a9210>"
      ]
     },
     "metadata": {},
     "output_type": "display_data"
    }
   ],
   "source": [
    "plt.hist(dmlb['payroll_adj'])"
   ]
  },
  {
   "cell_type": "code",
   "execution_count": 83,
   "metadata": {},
   "outputs": [
    {
     "data": {
      "text/plain": [
       "(array([  2.,  13.,   7.,   3.,   3.,   1.,   1.]),\n array([  44.9858    ,   73.00617171,  101.02654343,  129.04691514,\n         157.06728686,  185.08765857,  213.10803029,  241.128402  ]),\n <a list of 7 Patch objects>)"
      ]
     },
     "execution_count": 83,
     "metadata": {},
     "output_type": "execute_result"
    },
    {
     "data": {
      "image/png": "[encoded data removed]",
      "text/plain": [
       "<matplotlib.figure.Figure at 0x7fc62cb5dbd0>"
      ]
     },
     "metadata": {},
     "output_type": "display_data"
    }
   ],
   "source": [
    "plt.hist(dmlb['payroll_adj'], bins=7)"
   ]
  }
 ],
 "metadata": {
  "kernelspec": {
   "display_name": "Python 2",
   "language": "python",
   "name": "python2"
  },
  "language_info": {
   "codemirror_mode": {
    "name": "ipython",
    "version": 2.0
   },
   "file_extension": ".py",
   "mimetype": "text/x-python",
   "name": "python",
   "nbconvert_exporter": "python",
   "pygments_lexer": "ipython2",
   "version": "2.7.6"
  }
 },
 "nbformat": 4,
 "nbformat_minor": 0
}