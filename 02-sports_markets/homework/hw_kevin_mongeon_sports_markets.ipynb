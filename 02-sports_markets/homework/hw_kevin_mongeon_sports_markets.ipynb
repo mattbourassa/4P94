{
 "cells": [
  {
   "cell_type": "markdown",
   "metadata": {},
   "source": [
    "# Homework\n",
    "\n",
    "1. Distribution analysis\n",
    "    - Use histograms to examine the distribution of MLB, NBA, and NFL player salaries\n",
    "    - Are the distributions similar? If not, explain any differences in words\n",
    "\n",
    "2. Salary comparasons across leagues\n",
    "    - Which league do players, on average, have the highest salaries? \n",
    "    - Calculate the avearge (mean)  MLB, NBA, and NFL player salary\n",
    "    \n",
    "3. Salary comparasons across positions\n",
    "    - What position do MLB players, on average, have the highest salaries? \n",
    "    - What position do NFL players, on average, have the highest salaries? \n",
    "    - What position do NBA players, on average, have the highest salaries? \n"
   ]
  },
  {
   "cell_type": "markdown",
   "metadata": {},
   "source": [
    "# modules\n",
    " - note, seaborn library may no be avaialbel on campus computers"
   ]
  },
  {
   "cell_type": "code",
   "execution_count": 17,
   "metadata": {
    "collapsed": false
   },
   "outputs": [],
   "source": [
    "%matplotlib inline\n",
    "import os\n",
    "import sys\n",
    "import pandas\n",
    "import numpy\n",
    "import matplotlib\n",
    "import matplotlib.pyplot as plt\n",
    "import seaborn\n",
    "seaborn.set(color_codes=True)\n"
   ]
  },
  {
   "cell_type": "markdown",
   "metadata": {},
   "source": [
    "Set some Pandas options\n",
    "- congigure display option for your working environment and preferences"
   ]
  },
  {
   "cell_type": "code",
   "execution_count": 18,
   "metadata": {
    "collapsed": false
   },
   "outputs": [],
   "source": [
    "pandas.set_option('display.notebook_repr_html', False)\n",
    "pandas.set_option('display.max_columns', 20)\n",
    "pandas.set_option('display.max_rows', 25)"
   ]
  },
  {
   "cell_type": "markdown",
   "metadata": {},
   "source": [
    "# file management\n",
    "- homework directory in contained within sports_markets directory"
   ]
  },
  {
   "cell_type": "code",
   "execution_count": 19,
   "metadata": {
    "collapsed": false
   },
   "outputs": [
    {
     "name": "stdout",
     "output_type": "stream",
     "text": [
      "('working directory: ', '/home/vmuser/Documents/4P94/02-sports_markets/homework')\n"
     ]
    }
   ],
   "source": [
    "os.chdir('/home/vmuser/Documents/4P94/02-sports_markets/homework')\n",
    "PATH_WORK =  os.getcwd()\n",
    "print('working directory: ', PATH_WORK)"
   ]
  },
  {
   "cell_type": "markdown",
   "metadata": {},
   "source": [
    "Examine files in directory"
   ]
  },
  {
   "cell_type": "code",
   "execution_count": 20,
   "metadata": {
    "collapsed": false
   },
   "outputs": [
    {
     "name": "stdout",
     "output_type": "stream",
     "text": [
      "['.ipynb_checkpoints', 'hw_kevin_mongeon_sports_markets.ipynb', 'mlb_player_salaries_2015.csv', 'nba_player_salaries_2015.csv', 'nfl_player_salaries_2015.csv']\n",
      "('number of files in list is: ', 5)\n"
     ]
    }
   ],
   "source": [
    "list_files = os.listdir(PATH_WORK)\n",
    "print list_files\n",
    "print ('number of files in list is: ',len(list_files))"
   ]
  },
  {
   "cell_type": "markdown",
   "metadata": {},
   "source": [
    "# Load data"
   ]
  },
  {
   "cell_type": "code",
   "execution_count": 21,
   "metadata": {
    "collapsed": true
   },
   "outputs": [],
   "source": [
    "dmlb = pandas.read_csv('mlb_player_salaries_2015.csv')\n",
    "dnba = pandas.read_csv('nba_player_salaries_2015.csv')\n",
    "dnfl = pandas.read_csv('nfl_player_salaries_2015.csv')"
   ]
  },
  {
   "cell_type": "markdown",
   "metadata": {},
   "source": [
    "MLB data"
   ]
  },
  {
   "cell_type": "code",
   "execution_count": 22,
   "metadata": {
    "collapsed": false
   },
   "outputs": [
    {
     "data": {
      "text/plain": [
       "                         player position  team teamsignedwith   age  years  \\\n",
       "0   Miguel Cabrera (2016-2023)       1B   DET            DET   32.0      8   \n",
       "1  Clayton Kershaw (2014-2020)       SP   LAD            LAD   27.0      7   \n",
       "2     Max Scherzer (2015-2021)       SP   WSN            WSN   31.0      7   \n",
       "3   Alex Rodriguez (2008-2017)       DH   NYY            NYY   40.0     10   \n",
       "4       Jon Lester (2015-2020)       SP   CHC            CHC   31.0      6   \n",
       "\n",
       "    contract    salary  yearfreeagent  \n",
       "0  248000000  31000000           2024  \n",
       "1  215000000  30714286           2021  \n",
       "2  210000000  30000000           2022  \n",
       "3  275000000  27500000           2018  \n",
       "4  155000000  25833333           2021  "
      ]
     },
     "execution_count": 22,
     "metadata": {},
     "output_type": "execute_result"
    }
   ],
   "source": [
    "dmlb.head()"
   ]
  },
  {
   "cell_type": "markdown",
   "metadata": {},
   "source": [
    "NBA data"
   ]
  },
  {
   "cell_type": "code",
   "execution_count": 23,
   "metadata": {
    "collapsed": false
   },
   "outputs": [
    {
     "data": {
      "text/plain": [
       "                         player position  team teamsignedwith  age  years  \\\n",
       "0    Anthony Davis (2016-2020)       PF   NOP            NOP    22      5   \n",
       "1  Carmelo Anthony (2014-2018)       SF   NYK            NYK    31      5   \n",
       "2      Kobe Bryant (2014-2015)       SG   LAL            LAL    36      2   \n",
       "3   Damian Lillard (2016-2020)       PG   POR            POR    25      5   \n",
       "4       Chris Bosh (2014-2018)        C   MIA            MIA    31      5   \n",
       "\n",
       "    contract guaranteed guaranteedpct    salary  yearfreeagent  \n",
       "0  145000000  145000000           100  29000000           2021  \n",
       "1  124064681  124064681           100  24812936           2019  \n",
       "2   48500000   48500000           100  24250000           2016  \n",
       "3  120502600  120502600           100  24100520           2021  \n",
       "4  118705300  118705300           100  23741060           2019  "
      ]
     },
     "execution_count": 23,
     "metadata": {},
     "output_type": "execute_result"
    }
   ],
   "source": [
    "dnba.head()"
   ]
  },
  {
   "cell_type": "markdown",
   "metadata": {},
   "source": [
    "NFL data"
   ]
  },
  {
   "cell_type": "code",
   "execution_count": 24,
   "metadata": {
    "collapsed": false
   },
   "outputs": [
    {
     "data": {
      "text/plain": [
       "                           player position  team teamsignedwith  age  years  \\\n",
       "0       Aaron Rodgers (20132019)       QB    GB             GB    31      5   \n",
       "1      Russell Wilson (20152019)       QB   SEA            SEA    26      4   \n",
       "2  Ben Roethlisberger (20152019)       QB   PIT            PIT    33      4   \n",
       "3          Cam Newton (20152020)       QB   CAR            CAR    26      5   \n",
       "4           Matt Ryan (20132018)       QB   ATL            ATL    30      5   \n",
       "\n",
       "    contract    salary guaranteed guaranteedpct  yearfreeagent  \n",
       "0  110000000  22000000   54000000         49.09           2020  \n",
       "1   87600000  21900000   61542000         70.25           2020  \n",
       "2   87400000  21850000   31000000         35.47           2020  \n",
       "3  103800000  20760000   60000000          57.8           2021  \n",
       "4  103750000  20750000   42000000         40.48           2019  "
      ]
     },
     "execution_count": 24,
     "metadata": {},
     "output_type": "execute_result"
    }
   ],
   "source": [
    "dnfl.head()"
   ]
  }
 ],
 "metadata": {
  "anaconda-cloud": {},
  "kernelspec": {
   "display_name": "Python [default]",
   "language": "python",
   "name": "python2"
  },
  "language_info": {
   "codemirror_mode": {
    "name": "ipython",
    "version": 2
   },
   "file_extension": ".py",
   "mimetype": "text/x-python",
   "name": "python",
   "nbconvert_exporter": "python",
   "pygments_lexer": "ipython2",
   "version": "2.7.12"
  }
 },
 "nbformat": 4,
 "nbformat_minor": 0
}
