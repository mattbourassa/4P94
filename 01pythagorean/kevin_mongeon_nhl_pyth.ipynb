{
 "cells": [
  {
   "cell_type": "markdown",
   "metadata": {},
   "source": [
    "# Objective\n",
    "\n",
    "1. Obtain one season of NHL game summary data that includes the \n",
    "    - season\n",
    "    - team \n",
    "    - wins\n",
    "    - losses\n",
    "    - goals scored\n",
    "    - goals allowed\n",
    "\n",
    "2. Calculate team win percentages: $winper=\\frac{W}{W+L}$\n",
    "3. Calculate team expected win percentages based on the origonal Pythagoream formula: $\\widehat{winper}=\\frac{RF^2}{RF^2+ RA^2}$\n",
    "4. Compare the actual and expected team win percentages\n",
    "5. Save the dataframe as csv to the working directory\n",
    "\n",
    "## Notes:\n",
    "* The data should contain 30 observations $(1 season \\times 30 teams)$ \n",
    "\n",
    "## Submission instructions\n",
    "* Name the file: first_last_nhl_pyth (e.g., My file name is: kevin_mongeon_nhl_pyth)\n",
    "* Submit completed assignment by uploading the file to Sakaii under Assignment 1."
   ]
  }
 ],
 "metadata": {
  "anaconda-cloud": {},
  "kernelspec": {
   "display_name": "Python [conda root]",
   "language": "python",
   "name": "conda-root-py"
  },
  "language_info": {
   "codemirror_mode": {
    "name": "ipython",
    "version": 2
   },
   "file_extension": ".py",
   "mimetype": "text/x-python",
   "name": "python",
   "nbconvert_exporter": "python",
   "pygments_lexer": "ipython2",
   "version": "2.7.12"
  }
 },
 "nbformat": 4,
 "nbformat_minor": 1
}
