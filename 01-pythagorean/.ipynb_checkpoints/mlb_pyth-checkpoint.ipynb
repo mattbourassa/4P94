{
 "cells": [
  {
   "cell_type": "markdown",
   "metadata": {},
   "source": [
    "# Structure of analysis\n",
    "- Objective\n",
    "- Modules\n",
    "- Import \n",
    "- Clean \n",
    "- Organize \n",
    "- Generate \n",
    "- Analyze"
   ]
  },
  {
   "cell_type": "markdown",
   "metadata": {},
   "source": [
    "# Objective\n",
    "\n",
    "1. Calculate team win percentages: $winper=\\frac{W}{W+L}$\n",
    "2. Calculate team expected win percentages based on the origonal Pythagoream formula: $\\widehat{winper}=\\frac{RF^2}{RF^2+ RA^2}$\n",
    "3. Save datafram as csv in working directory"
   ]
  },
  {
   "cell_type": "markdown",
   "metadata": {},
   "source": [
    "## Modules"
   ]
  },
  {
   "cell_type": "code",
   "execution_count": 92,
   "metadata": {
    "collapsed": false
   },
   "outputs": [],
   "source": [
    "import os, sys\n",
    "import pandas, numpy\n",
    "import matplotlib"
   ]
  },
  {
   "cell_type": "markdown",
   "metadata": {},
   "source": [
    "## Import"
   ]
  },
  {
   "cell_type": "code",
   "execution_count": 93,
   "metadata": {
    "collapsed": false
   },
   "outputs": [
    {
     "name": "stdout",
     "output_type": "stream",
     "text": [
      "observe working directory\n"
     ]
    },
    {
     "data": {
      "text/plain": [
       "'C:\\\\Users\\\\kevin\\\\Documents\\\\GitHub\\\\courses\\\\4P94\\\\labs\\\\pyth-mlb'"
      ]
     },
     "execution_count": 93,
     "metadata": {},
     "output_type": "execute_result"
    }
   ],
   "source": [
    "print('observe working directory')\n",
    "os.getcwd()"
   ]
  },
  {
   "cell_type": "code",
   "execution_count": 94,
   "metadata": {
    "collapsed": false
   },
   "outputs": [],
   "source": [
    "dm = pandas.read_csv('mlb_win.csv')"
   ]
  },
  {
   "cell_type": "markdown",
   "metadata": {},
   "source": [
    "## Clean "
   ]
  },
  {
   "cell_type": "code",
   "execution_count": 95,
   "metadata": {
    "collapsed": false
   },
   "outputs": [
    {
     "name": "stdout",
     "output_type": "stream",
     "text": [
      "Index([u'Team', u'League', u'W', u'L', u'Runs For', u'Runs Against'], dtype='object')\n",
      "Team            object\n",
      "League          object\n",
      "W                int64\n",
      "L                int64\n",
      "Runs For         int64\n",
      "Runs Against     int64\n",
      "dtype: object\n"
     ]
    }
   ],
   "source": [
    "print dm.columns\n",
    "print dm.dtypes"
   ]
  },
  {
   "cell_type": "code",
   "execution_count": 96,
   "metadata": {
    "collapsed": false
   },
   "outputs": [
    {
     "data": {
      "text/html": [
       "<div>\n",
       "<table border=\"1\" class=\"dataframe\">\n",
       "  <thead>\n",
       "    <tr style=\"text-align: right;\">\n",
       "      <th></th>\n",
       "      <th>Team</th>\n",
       "      <th>League</th>\n",
       "      <th>W</th>\n",
       "      <th>L</th>\n",
       "      <th>Runs For</th>\n",
       "      <th>Runs Against</th>\n",
       "    </tr>\n",
       "  </thead>\n",
       "  <tbody>\n",
       "    <tr>\n",
       "      <th>0</th>\n",
       "      <td>Philadelphia Phillies</td>\n",
       "      <td>NL</td>\n",
       "      <td>63</td>\n",
       "      <td>99</td>\n",
       "      <td>626</td>\n",
       "      <td>809</td>\n",
       "    </tr>\n",
       "    <tr>\n",
       "      <th>1</th>\n",
       "      <td>Cincinnati Reds</td>\n",
       "      <td>NL</td>\n",
       "      <td>64</td>\n",
       "      <td>98</td>\n",
       "      <td>641</td>\n",
       "      <td>754</td>\n",
       "    </tr>\n",
       "    <tr>\n",
       "      <th>2</th>\n",
       "      <td>Atlanta Braves</td>\n",
       "      <td>NL</td>\n",
       "      <td>67</td>\n",
       "      <td>95</td>\n",
       "      <td>573</td>\n",
       "      <td>760</td>\n",
       "    </tr>\n",
       "    <tr>\n",
       "      <th>3</th>\n",
       "      <td>Colorado Rockies</td>\n",
       "      <td>NL</td>\n",
       "      <td>68</td>\n",
       "      <td>94</td>\n",
       "      <td>737</td>\n",
       "      <td>844</td>\n",
       "    </tr>\n",
       "    <tr>\n",
       "      <th>4</th>\n",
       "      <td>Milwaukee Brewers</td>\n",
       "      <td>NL</td>\n",
       "      <td>68</td>\n",
       "      <td>94</td>\n",
       "      <td>655</td>\n",
       "      <td>738</td>\n",
       "    </tr>\n",
       "  </tbody>\n",
       "</table>\n",
       "</div>"
      ],
      "text/plain": [
       "                    Team League   W   L  Runs For  Runs Against\n",
       "0  Philadelphia Phillies     NL  63  99       626           809\n",
       "1        Cincinnati Reds     NL  64  98       641           754\n",
       "2         Atlanta Braves     NL  67  95       573           760\n",
       "3       Colorado Rockies     NL  68  94       737           844\n",
       "4      Milwaukee Brewers     NL  68  94       655           738"
      ]
     },
     "execution_count": 96,
     "metadata": {},
     "output_type": "execute_result"
    }
   ],
   "source": [
    "dm.head()"
   ]
  },
  {
   "cell_type": "markdown",
   "metadata": {},
   "source": [
    "## Organize "
   ]
  },
  {
   "cell_type": "code",
   "execution_count": 97,
   "metadata": {
    "collapsed": false
   },
   "outputs": [],
   "source": [
    "dm = dm.sort_values(by=['League', 'Team'])"
   ]
  },
  {
   "cell_type": "markdown",
   "metadata": {},
   "source": [
    "## Generate"
   ]
  },
  {
   "cell_type": "code",
   "execution_count": 98,
   "metadata": {
    "collapsed": false
   },
   "outputs": [],
   "source": [
    "dm['RF2'] = dm['Runs For']**2\n",
    "dm['RA2'] = dm['Runs Against']**2"
   ]
  },
  {
   "cell_type": "markdown",
   "metadata": {},
   "source": [
    "##  Analyze "
   ]
  },
  {
   "cell_type": "code",
   "execution_count": 99,
   "metadata": {
    "collapsed": false
   },
   "outputs": [],
   "source": [
    "dm['WP']  = dm['Runs For'] / (dm['Runs For']  + dm['Runs Against'] )\n",
    "dm['EWP'] = dm['RF2'] / (dm['RF2']+ dm['RA2'] )\n",
    "dm['Diff'] = dm['WP']  - dm['EWP'] "
   ]
  },
  {
   "cell_type": "code",
   "execution_count": 100,
   "metadata": {
    "collapsed": false
   },
   "outputs": [
    {
     "data": {
      "text/html": [
       "<div>\n",
       "<table border=\"1\" class=\"dataframe\">\n",
       "  <thead>\n",
       "    <tr style=\"text-align: right;\">\n",
       "      <th></th>\n",
       "      <th>Team</th>\n",
       "      <th>WP</th>\n",
       "      <th>EWP</th>\n",
       "    </tr>\n",
       "  </thead>\n",
       "  <tbody>\n",
       "    <tr>\n",
       "      <th>14</th>\n",
       "      <td>Baltimore Orioles</td>\n",
       "      <td>0.507112</td>\n",
       "      <td>0.514222</td>\n",
       "    </tr>\n",
       "    <tr>\n",
       "      <th>11</th>\n",
       "      <td>Boston Red Sox</td>\n",
       "      <td>0.498334</td>\n",
       "      <td>0.496669</td>\n",
       "    </tr>\n",
       "    <tr>\n",
       "      <th>9</th>\n",
       "      <td>Chicago White Sox</td>\n",
       "      <td>0.470144</td>\n",
       "      <td>0.440499</td>\n",
       "    </tr>\n",
       "    <tr>\n",
       "      <th>15</th>\n",
       "      <td>Cleveland Indians</td>\n",
       "      <td>0.511077</td>\n",
       "      <td>0.522143</td>\n",
       "    </tr>\n",
       "    <tr>\n",
       "      <th>8</th>\n",
       "      <td>Detroit Tigers</td>\n",
       "      <td>0.461796</td>\n",
       "      <td>0.424036</td>\n",
       "    </tr>\n",
       "  </tbody>\n",
       "</table>\n",
       "</div>"
      ],
      "text/plain": [
       "                 Team        WP       EWP\n",
       "14  Baltimore Orioles  0.507112  0.514222\n",
       "11     Boston Red Sox  0.498334  0.496669\n",
       "9   Chicago White Sox  0.470144  0.440499\n",
       "15  Cleveland Indians  0.511077  0.522143\n",
       "8      Detroit Tigers  0.461796  0.424036"
      ]
     },
     "execution_count": 100,
     "metadata": {},
     "output_type": "execute_result"
    }
   ],
   "source": [
    "dm[['Team', 'WP', 'EWP']].head()"
   ]
  },
  {
   "cell_type": "code",
   "execution_count": 101,
   "metadata": {
    "collapsed": false
   },
   "outputs": [
    {
     "name": "stdout",
     "output_type": "stream",
     "text": [
      "save to csv\n"
     ]
    }
   ],
   "source": [
    "print('save to csv')\n",
    "dm.to_csv('mlb_expected.csv')"
   ]
  },
  {
   "cell_type": "markdown",
   "metadata": {},
   "source": [
    "## Done"
   ]
  }
 ],
 "metadata": {
  "anaconda-cloud": {},
  "kernelspec": {
   "display_name": "Python [conda root]",
   "language": "python",
   "name": "conda-root-py"
  },
  "language_info": {
   "codemirror_mode": {
    "name": "ipython",
    "version": 2
   },
   "file_extension": ".py",
   "mimetype": "text/x-python",
   "name": "python",
   "nbconvert_exporter": "python",
   "pygments_lexer": "ipython2",
   "version": "2.7.12"
  }
 },
 "nbformat": 4,
 "nbformat_minor": 1
}
